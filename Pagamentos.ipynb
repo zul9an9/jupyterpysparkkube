{
 "cells": [
  {
   "cell_type": "code",
   "execution_count": null,
   "id": "cb373fbe",
   "metadata": {},
   "outputs": [],
   "source": [
    "from pyspark.sql.types import *"
   ]
  },
  {
   "cell_type": "code",
   "execution_count": null,
   "id": "6208c385",
   "metadata": {},
   "outputs": [],
   "source": [
    "import pyspark.sql.functions as f"
   ]
  },
  {
   "cell_type": "code",
   "execution_count": null,
   "id": "f8fcf88f",
   "metadata": {},
   "outputs": [],
   "source": [
    "from pyspark.sql import SparkSession"
   ]
  },
  {
   "cell_type": "code",
   "execution_count": null,
   "id": "642c726c",
   "metadata": {},
   "outputs": [],
   "source": [
    "from pyspark.sql.types import StructField,IntegerType, FloatType, BooleanType ,StructType,StringType"
   ]
  },
  {
   "cell_type": "code",
   "execution_count": null,
   "id": "971b8bba",
   "metadata": {},
   "outputs": [],
   "source": [
    "from pyspark.sql.dataframe import DataFrame"
   ]
  },
  {
   "cell_type": "code",
   "execution_count": null,
   "id": "8cd7f40c",
   "metadata": {},
   "outputs": [],
   "source": [
    "from datetime import datetime"
   ]
  },
  {
   "cell_type": "code",
   "execution_count": null,
   "id": "d7495c1a",
   "metadata": {},
   "outputs": [],
   "source": [
    "from pyspark.sql import Row"
   ]
  },
  {
   "cell_type": "code",
   "execution_count": null,
   "id": "61e6ea49",
   "metadata": {},
   "outputs": [],
   "source": [
    "import os"
   ]
  },
  {
   "cell_type": "code",
   "execution_count": null,
   "id": "ccb36306",
   "metadata": {},
   "outputs": [],
   "source": [
    "import json"
   ]
  },
  {
   "cell_type": "code",
   "execution_count": null,
   "id": "33cd47d4",
   "metadata": {},
   "outputs": [],
   "source": [
    "import csv"
   ]
  },
  {
   "cell_type": "code",
   "execution_count": null,
   "id": "a7356e3b",
   "metadata": {},
   "outputs": [],
   "source": [
    "import pandas as pd"
   ]
  },
  {
   "cell_type": "code",
   "execution_count": null,
   "id": "e7ecf75c",
   "metadata": {},
   "outputs": [],
   "source": [
    "import numpy as np"
   ]
  },
  {
   "cell_type": "code",
   "execution_count": null,
   "id": "e170e8e3",
   "metadata": {},
   "outputs": [],
   "source": [
    "import requests"
   ]
  },
  {
   "cell_type": "code",
   "execution_count": null,
   "id": "3eda2496",
   "metadata": {},
   "outputs": [],
   "source": [
    "# definição do esquema da tabela temporária de clientes\n",
    "camposClientes=[StructField('id',IntegerType(),True),\n",
    "                StructField('nome',StringType(),True),\n",
    "                StructField('cidade',StringType(),True),\n",
    "                StructField('estado',StringType(),True),\n",
    "                StructField('segmento',StringType(),True)\n",
    "               ]\n",
    "clientesStruct=StructType(fields=camposClientes)"
   ]
  },
  {
   "cell_type": "code",
   "execution_count": null,
   "id": "ad295295",
   "metadata": {},
   "outputs": [],
   "source": [
    "# definição do esquema da tabela temporária de planos\n",
    "camposPlanos=[StructField('ID',IntegerType(),True),\n",
    "             StructField('Plano',StringType(),True)]\n",
    "planosStruct=StructType(fields=camposPlanos)"
   ]
  },
  {
   "cell_type": "code",
   "execution_count": null,
   "id": "ed543881",
   "metadata": {},
   "outputs": [],
   "source": [
    "# definição do esquema da tabela de pagamentos globais\n",
    "camposPagamentosAno=[StructField('id',IntegerType(),True),\n",
    "                  StructField('ano_pagamento',StringType(),True),\n",
    "                  StructField('valorJan',FloatType(),True),\n",
    "                  StructField('valorFev',FloatType(),True),\n",
    "                  StructField('valorMar',FloatType(),True),\n",
    "                  StructField('valorAbr',FloatType(),True),\n",
    "                  StructField('valorMai',FloatType(),True),\n",
    "                  StructField('valorJun',FloatType(),True),\n",
    "                  StructField('valorJul',FloatType(),True),\n",
    "                  StructField('valorAgo',FloatType(),True),\n",
    "                  StructField('valorSet',FloatType(),True),\n",
    "                  StructField('valorOut',FloatType(),True),\n",
    "                  StructField('valorNov',FloatType(),True),\n",
    "                  StructField('valorDez',FloatType(),True),\n",
    "                  StructField('plano_id',IntegerType(),True)       ]\n",
    "pagamentosAnoStruct=StructType(fields=camposPagamentosAno)\n"
   ]
  },
  {
   "cell_type": "code",
   "execution_count": null,
   "id": "6d90bdcf",
   "metadata": {},
   "outputs": [],
   "source": [
    "# definição do esquema da tabela de pagamentos parcelados\n",
    "camposPagamentosPar=[StructField('id',IntegerType(),True),\n",
    "                  StructField('anomes_pagamento',StringType(),True),\n",
    "                  StructField('valorAnoMes',FloatType(),True),\n",
    "                  StructField('plano_id',IntegerType(),True)       ]\n",
    "pagamentosParStruct=StructType(fields=camposPagamentosPar)\n"
   ]
  },
  {
   "cell_type": "code",
   "execution_count": null,
   "id": "020e11fc",
   "metadata": {},
   "outputs": [],
   "source": [
    "# definição do esquema da tabela pagamentos \n",
    "camposPagamentosHj=[StructField('id',IntegerType(),True),\n",
    "             StructField('data_pagamento',StringType(),True),\n",
    "             StructField('valor',StringType(),True),\n",
    "             StructField('plano_id',IntegerType(),True),\n",
    "             StructField('qtde_meses_pagos',IntegerType(),True)\n",
    "       ]\n",
    "pagamentosHjStruct=StructType(fields=camposPagamentosHj)"
   ]
  },
  {
   "cell_type": "code",
   "execution_count": null,
   "id": "ff3c7102",
   "metadata": {},
   "outputs": [],
   "source": [
    "camposPagamentosGlobais=[StructField('id',IntegerType(),True),\n",
    "                  StructField('ano_pagamento',StringType(),True),\n",
    "                  StructField('valorJan',FloatType(),True),\n",
    "                  StructField('valorFev',FloatType(),True),\n",
    "                  StructField('valorMar',FloatType(),True),\n",
    "                  StructField('valorAbr',FloatType(),True),\n",
    "                  StructField('valorMai',FloatType(),True),\n",
    "                  StructField('valorJun',FloatType(),True),\n",
    "                  StructField('valorJul',FloatType(),True),\n",
    "                  StructField('valorAgo',FloatType(),True),\n",
    "                  StructField('valorSet',FloatType(),True),\n",
    "                  StructField('valorOut',FloatType(),True),\n",
    "                  StructField('valorNov',FloatType(),True),\n",
    "                  StructField('valorDez',FloatType(),True),\n",
    "                  StructField('plano_id',IntegerType(),True),  ]\n",
    "pagamentosGlobaisStruct=StructType(fields=camposPagamentosGlobais)"
   ]
  },
  {
   "cell_type": "code",
   "execution_count": null,
   "id": "c8ab8252",
   "metadata": {},
   "outputs": [],
   "source": [
    "# criar a sessão de spark\n",
    "spark = (\n",
    "    SparkSession\n",
    "    .builder\n",
    "    .master(\"local\")\n",
    "    .appName(\"test-Cosmer\")\n",
    "    .config(\"spark.sql.shuffle.partitions\", 13)\n",
    "    .config(\"spark.driver.memory\", \"10g\")\n",
    "    .config(\"spark.sql.legacy.createHiveTableByDefault\", \"false\")\n",
    "    .config(\"spark.sql.debug.maxToStringFields\", 1000000)\n",
    "    .config(\"setLogLevel\", \"INFO\")\n",
    "    .config(\"spark.logConf\", \"true\")\n",
    "    .getOrCreate()\n",
    ")\n",
    "#spark.sparkContext.setLogLevel(\"WARN\")  \n",
    "    \n"
   ]
  },
  {
   "cell_type": "code",
   "execution_count": null,
   "id": "99d4b37a",
   "metadata": {},
   "outputs": [],
   "source": [
    "# ler api de clientes e criar o df de clientes\n",
    "url = 'https://demo4461965.mockable.io/clientes'\n",
    "\n",
    "response = requests.get(url=url)\n",
    "#print('ini')\n",
    "if response.status_code >= 200 and response.status_code <= 299:\n",
    "    response.encoding = 'ISO-8859-1'\n",
    "    #print('meio')\n",
    "    tudo = response.text #.replace('[','').replace(']','')\n",
    "    arqc = open(\"clientes.json\", \"w\", encoding='ISO-8859-1')\n",
    "    arqc.write(tudo)\n",
    "    arqc.close()\n",
    "    df_clientes = spark.read.format('json').schema(clientesStruct).load('clientes.json')\n",
    "    df_clientes.write.format('parquet').partitionBy('id').mode('overwrite').save('/app/parquet/clientes/'+'df_clientes.parquet')\n"
   ]
  },
  {
   "cell_type": "code",
   "execution_count": null,
   "id": "910246b6",
   "metadata": {},
   "outputs": [],
   "source": [
    "# gerar df de planos\n",
    "df_planos = spark.read.csv('planos.csv', header=True, sep=';',schema=planosStruct)\n"
   ]
  },
  {
   "cell_type": "code",
   "execution_count": null,
   "id": "bb62da64",
   "metadata": {},
   "outputs": [],
   "source": [
    "# alterar nome de campos de df de planos\n",
    "df_planos = df_planos.selectExpr(\"ID as plano_id\", \"Plano as Plano\")"
   ]
  },
  {
   "cell_type": "code",
   "execution_count": null,
   "id": "b823f7d3",
   "metadata": {},
   "outputs": [],
   "source": [
    "# gerar parquet de planos\n",
    "df_planos.write.format('parquet').mode('overwrite').save('/app/parquet/planos/'+'df_planos.parquet')"
   ]
  },
  {
   "cell_type": "code",
   "execution_count": null,
   "id": "9955c52a",
   "metadata": {},
   "outputs": [],
   "source": [
    "# gerar df de pagamentos de hj\n",
    "df_pagamentosHj = spark.read.csv('pagamentos*.csv', header=True, sep=';', schema=pagamentosHjStruct)\n"
   ]
  },
  {
   "cell_type": "code",
   "execution_count": null,
   "id": "5f55dab4",
   "metadata": {},
   "outputs": [],
   "source": [
    "# desmembra pagamentos para cada mês de cada ano/id de cliente\n",
    "listaPagtos = []\n",
    "for row in df_pagamentosHj.rdd.collect():\n",
    "    qtd_meses = 0\n",
    "    id = int(row['id'])\n",
    "    str_date = row['data_pagamento']\n",
    "    date = datetime.strptime(str_date, '%d/%m/%Y').date()\n",
    "    #ano = f.colyear(row['data_pagamento'])\n",
    "    #mes = f.month(row['data_pagamento'])\n",
    "    #print(date, type(date))\n",
    "    ano = str(date)[0:4]\n",
    "    mes = str(date)[5:7]\n",
    "    valor = float(row['valor'].replace('R$','').replace(',','.')) # float()\n",
    "    meses = int(row['qtde_meses_pagos'])\n",
    "    valorM = float(valor / meses)\n",
    "    while qtd_meses < meses:\n",
    "        if qtd_meses != 0:\n",
    "            if mes == '12':\n",
    "                mes = '01'\n",
    "                ano = str(int(ano)+1)\n",
    "            else:\n",
    "                mes = str(int(mes)+1)\n",
    "                if len(mes) == 1:\n",
    "                    mes = '0'+mes\n",
    "        anomes = ano + mes\n",
    "        #print(anomes)\n",
    "        #str_date = '2018-07-11'\n",
    "        #date = datetime.strptime(str_date, '%Y-%m-%d').date()\n",
    "        #print(date, type(date))\n",
    "        dataP = date\n",
    "        #print(row['id'], anomes , valorM , row['plano_id'], row['qtde_meses_pagos'], qtd_meses)\n",
    "        linha = []\n",
    "        linha.append(row['id'])\n",
    "        linha.append(anomes)\n",
    "        linha.append(valorM)\n",
    "        linha.append(int(row['plano_id']))\n",
    "        listaPagtos.append(linha)\n",
    "        qtd_meses = qtd_meses + 1\n",
    "        #print ('================')\n",
    "del(df_pagamentosHj)\n"
   ]
  },
  {
   "cell_type": "code",
   "execution_count": null,
   "id": "fd37b07a",
   "metadata": {},
   "outputs": [],
   "source": [
    "# gerar rdd de pagamentos parciais\n",
    "rdd = spark.sparkContext.parallelize(listaPagtos)\n",
    "# criar df de pagamentos parciais\n",
    "df_pagtosMensais=spark.createDataFrame(rdd, pagamentosParStruct)\n",
    "#type(df_pagtosMensais)\n"
   ]
  },
  {
   "cell_type": "code",
   "execution_count": null,
   "id": "af9a174f",
   "metadata": {},
   "outputs": [],
   "source": [
    "# excluir rdd\n",
    "del(rdd)"
   ]
  },
  {
   "cell_type": "code",
   "execution_count": null,
   "id": "e2aff2e2",
   "metadata": {},
   "outputs": [],
   "source": [
    "# construir o df da base de pagamentos mensais \n",
    "df_pagtosMensais = df_pagtosMensais \\\n",
    "                  .withColumn('year', f.col('anomes_pagamento').substr(1, 4)) \\\n",
    "                  .withColumn('month',f.col('anomes_pagamento').substr(5, 2))"
   ]
  },
  {
   "cell_type": "code",
   "execution_count": null,
   "id": "46bb60de",
   "metadata": {},
   "outputs": [],
   "source": [
    "# separar a base de pagamentos mensais em meses\n",
    "df_Jan = df_pagtosMensais.filter(df_pagtosMensais.month == '01').groupby(\"id\",\"year\",\"plano_id\").sum('valorAnoMes').withColumnRenamed('sum(valorAnoMes)','valorJan') \n",
    "df_Fev = df_pagtosMensais.filter(df_pagtosMensais.month == '02').groupby(\"id\",\"year\",\"plano_id\").sum('valorAnoMes').withColumnRenamed('sum(valorAnoMes)','valorFev')\n",
    "df_Mar = df_pagtosMensais.filter(df_pagtosMensais.month == '03').groupby(\"id\",\"year\",\"plano_id\").sum('valorAnoMes').withColumnRenamed('sum(valorAnoMes)','valorMar')\n",
    "df_Abr = df_pagtosMensais.filter(df_pagtosMensais.month == '04').groupby(\"id\",\"year\",\"plano_id\").sum('valorAnoMes').withColumnRenamed('sum(valorAnoMes)','valorAbr')\n",
    "df_Mai = df_pagtosMensais.filter(df_pagtosMensais.month == '05').groupby(\"id\",\"year\",\"plano_id\").sum('valorAnoMes').withColumnRenamed('sum(valorAnoMes)','valorMai')\n",
    "df_Jun = df_pagtosMensais.filter(df_pagtosMensais.month == '06').groupby(\"id\",\"year\",\"plano_id\").sum('valorAnoMes').withColumnRenamed('sum(valorAnoMes)','valorJun')\n",
    "df_Jul = df_pagtosMensais.filter(df_pagtosMensais.month == '07').groupby(\"id\",\"year\",\"plano_id\").sum('valorAnoMes').withColumnRenamed('sum(valorAnoMes)','valorJul')\n",
    "df_Ago = df_pagtosMensais.filter(df_pagtosMensais.month == '08').groupby(\"id\",\"year\",\"plano_id\").sum('valorAnoMes').withColumnRenamed('sum(valorAnoMes)','valorAgo')\n",
    "df_Set = df_pagtosMensais.filter(df_pagtosMensais.month == '09').groupby(\"id\",\"year\",\"plano_id\").sum('valorAnoMes').withColumnRenamed('sum(valorAnoMes)','valorSet')\n",
    "df_Out = df_pagtosMensais.filter(df_pagtosMensais.month == '10').groupby(\"id\",\"year\",\"plano_id\").sum('valorAnoMes').withColumnRenamed('sum(valorAnoMes)','valorOut')\n",
    "df_Nov = df_pagtosMensais.filter(df_pagtosMensais.month == '11').groupby(\"id\",\"year\",\"plano_id\").sum('valorAnoMes').withColumnRenamed('sum(valorAnoMes)','valorNov')\n",
    "df_Dez = df_pagtosMensais.filter(df_pagtosMensais.month == '12').groupby(\"id\",\"year\",\"plano_id\").sum('valorAnoMes').withColumnRenamed('sum(valorAnoMes)','valorDez')\n",
    "\n"
   ]
  },
  {
   "cell_type": "code",
   "execution_count": null,
   "id": "b3cca28f",
   "metadata": {},
   "outputs": [],
   "source": [
    "# pegar horário de execução\n",
    "horario = str(datetime.now())"
   ]
  },
  {
   "cell_type": "code",
   "execution_count": null,
   "id": "33a40021",
   "metadata": {},
   "outputs": [],
   "source": [
    "# retirar espaços do horário de execução para concatenar com o nome de pagamentos mensais\n",
    "horario = horario.replace(' ','')"
   ]
  },
  {
   "cell_type": "code",
   "execution_count": null,
   "id": "7abb3c98",
   "metadata": {},
   "outputs": [],
   "source": [
    "# criar o parquet de pagamentos mensais com horario de execução para ser armazenado\n",
    "df_pagtosMensais.write.format('parquet').save('/app/csv/processados/'+'pagamentosMensais'+horario)"
   ]
  },
  {
   "cell_type": "code",
   "execution_count": null,
   "id": "1f49fd17",
   "metadata": {},
   "outputs": [],
   "source": [
    "# criar a base de pagamentos gerais \n",
    "df_pagtoGeral = df_pagtosMensais \\\n",
    "                .select('id','year','plano_id') \\\n",
    "                .distinct() \\\n",
    "                .sort('id','year') "
   ]
  },
  {
   "cell_type": "code",
   "execution_count": null,
   "id": "25429508",
   "metadata": {},
   "outputs": [],
   "source": [
    "# excluir a base de df de pagamentos mensais\n",
    "del(df_pagtosMensais)"
   ]
  },
  {
   "cell_type": "code",
   "execution_count": null,
   "id": "38a8ecbd",
   "metadata": {},
   "outputs": [],
   "source": [
    "# fazer união com pagamentos mensais para trazer os dados para a base de pagamentos gerais\n",
    "df_pagtoGeral = df_pagtoGeral.join(df_Jan, on=['id','year','plano_id'], how='left')\n",
    "df_pagtoGeral = df_pagtoGeral.join(df_Fev, on=['id','year','plano_id'], how='left')\n",
    "df_pagtoGeral = df_pagtoGeral.join(df_Mar, on=['id','year','plano_id'], how='left')\n",
    "df_pagtoGeral = df_pagtoGeral.join(df_Abr, on=['id','year','plano_id'], how='left')\n",
    "df_pagtoGeral = df_pagtoGeral.join(df_Mai, on=['id','year','plano_id'], how='left')\n",
    "df_pagtoGeral = df_pagtoGeral.join(df_Jun, on=['id','year','plano_id'], how='left')\n",
    "df_pagtoGeral = df_pagtoGeral.join(df_Jul, on=['id','year','plano_id'], how='left')\n",
    "df_pagtoGeral = df_pagtoGeral.join(df_Ago, on=['id','year','plano_id'], how='left')\n",
    "df_pagtoGeral = df_pagtoGeral.join(df_Set, on=['id','year','plano_id'], how='left')\n",
    "df_pagtoGeral = df_pagtoGeral.join(df_Out, on=['id','year','plano_id'], how='left')\n",
    "df_pagtoGeral = df_pagtoGeral.join(df_Nov, on=['id','year','plano_id'], how='left')\n",
    "df_pagtoGeral = df_pagtoGeral.join(df_Dez, on=['id','year','plano_id'], how='left')\n"
   ]
  },
  {
   "cell_type": "code",
   "execution_count": null,
   "id": "67c33b45",
   "metadata": {},
   "outputs": [],
   "source": [
    "# fazer união com Clientes para trazer os dados de clientes para a base de pagamentos gerais\n",
    "#df_pagtoGeral = df_pagtoGeral.join(df_clientes, on=['id'], how='left')"
   ]
  },
  {
   "cell_type": "code",
   "execution_count": null,
   "id": "0d762770",
   "metadata": {},
   "outputs": [],
   "source": [
    "# fazer união com Plano para trazer os dados de clientes para a base de pagamentos gerais\n",
    "#df_pagtoGeral = df_pagtoGeral.join(df_planos, on=['plano_id'], how='left')"
   ]
  },
  {
   "cell_type": "code",
   "execution_count": null,
   "id": "d7ac07d1",
   "metadata": {},
   "outputs": [],
   "source": [
    "df_pagtoGeral.write.format('parquet').partitionBy('id').mode('overwrite').save('/app/parquet/pagamentos/df_pagtoGeral'+horario+'.parquet')\n"
   ]
  },
  {
   "cell_type": "code",
   "execution_count": null,
   "id": "28646ba7",
   "metadata": {},
   "outputs": [],
   "source": []
  },
  {
   "cell_type": "code",
   "execution_count": null,
   "id": "d7af2c9d",
   "metadata": {},
   "outputs": [],
   "source": [
    "# id|year|plano_id|valorJan|valorFev|valorMar|valorAbr|valorMai|valorJun|valorJul|valorAgo|valorSet|valorOut|valorNov|valorDez\n",
    "# gravar parquet de pagamentos gerais\n",
    "# df_pagtoGeral.write.format('parquet').partitionBy('id').mode('overwrite').save('/app/parquet/pagamentos/'+'df_pagtoGeral.parquet')\n",
    "temPagamentos = df_pagtoGeral.count()\n",
    "if temPagamentos > 0:\n",
    "    if os.path.isfile('/app/parquet/pagamentosGerais/df_pagtoGeral.parquet'):\n",
    "        df_pagtoGeralBase = spark.read.parquet(\"/app/parquet/pagamentosGerais/df_pagtoGeral.parquet\")\n",
    "        df_pagtoGeralBase = df_pagtoGeralBase \\\n",
    "                    .selectExpr(\"id as id\", \\\n",
    "                                \"year as year\", \\\n",
    "                                \"valorJan as valorJanBase\", \\\n",
    "                                \"valorFev as valorFevBase\", \\\n",
    "                                \"valorMar as valorMarBase\", \\\n",
    "                                \"valorAbr as valorAbrBase\", \\\n",
    "                                \"valorMai as valorMaiBase\", \\\n",
    "                                \"valorJun as valorJunBase\", \\\n",
    "                                \"valorAgo as valorAgoBase\", \\\n",
    "                                \"valorSet as valorSetBase\", \\\n",
    "                                \"valorOut as valorOutBase\", \\\n",
    "                                \"valorNov as valorNovBase\", \\\n",
    "                                \"valorMar as valorMarBase\", \\\n",
    "                                \"valorDez as valorDezBase\", \\\n",
    "                                \"plano_id as plano_id\")\n",
    "        df_pagtoGeralBase.fillna(0, inplace=True)\n",
    "        df_full = df_pagtoGeralBase.join(df_pagtoGeral, on=['id', 'year', 'plano_id'], how='full_outer')\n",
    "        #df_pagtoGeral.write.format('parquet').partitionBy('id').mode('overwrite').save('/app/parquet/pagamentos/'+'df_pagtoGeral.parquet')\n",
    "        \n",
    "        listaPagtosNew = []\n",
    "        for row in df_full.rdd.collect():\n",
    "            linhaNew = []\n",
    "            linhaNew.append(row['id'])\n",
    "            linhaNew.append(row['year'])\n",
    "            linhaNew.append(row['plano_id'])\n",
    "            if row['valorJan'] == 0:\n",
    "                linhaNew.append(row['valorJanBase'])\n",
    "            else:\n",
    "                linhaNew.append(row['valorJan'])\n",
    "            if row['valorFev'] == 0:\n",
    "                linhaNew.append(row['valorFevBase'])\n",
    "            else:\n",
    "                linhaNew.append(row['valorFev'])\n",
    "            if row['valorMar'] == 0:\n",
    "                linhaNew.append(row['valorMarBase'])\n",
    "            else:\n",
    "                linhaNew.append(row['valorMar'])\n",
    "            if row['valorAbr'] == 0:\n",
    "                linhaNew.append(row['valorAbrBase'])\n",
    "            else:\n",
    "                linhaNew.append(row['valorAbr'])\n",
    "            if row['valorMai'] == 0:\n",
    "                linhaNew.append(row['valorMaiBase'])\n",
    "            else:\n",
    "                linhaNew.append(row['valorMai'])\n",
    "            if row['valorJun'] == 0:\n",
    "                linhaNew.append(row['valorJunBase'])\n",
    "            else:\n",
    "                linhaNew.append(row['valorJun'])\n",
    "            if row['valorJul'] == 0:\n",
    "                linhaNew.append(row['valorJulBase'])\n",
    "            else:\n",
    "                linhaNew.append(row['valorJul'])\n",
    "            if row['valorAgo'] == 0:\n",
    "                linhaNew.append(row['valorAgoBase'])\n",
    "            else:\n",
    "                linhaNew.append(row['valorAgo'])\n",
    "            if row['valorSet'] == 0:\n",
    "                linhaNew.append(row['valorSetBase'])\n",
    "            else:\n",
    "                linhaNew.append(row['valorSet'])\n",
    "            if row['valorOut'] == 0:\n",
    "                linhaNew.append(row['valorOutBase'])\n",
    "            else:\n",
    "                linhaNew.append(row['valorOut'])\n",
    "            if row['valorNov'] == 0:\n",
    "                linhaNew.append(row['valorNovBase'])\n",
    "            else:\n",
    "                linhaNew.append(row['valorNov'])\n",
    "            if row['valorDez'] == 0:\n",
    "                linhaNew.append(row['valorDezBase'])\n",
    "            else:\n",
    "                linhaNew.append(row['valorDez'])\n",
    "                \n",
    "            listaPagtosNew.append(linha)\n",
    "        #print ('================')\n",
    "        # gerar rdd de pagamentos parciais\n",
    "        rdd = spark.sparkContext.parallelize(listaPagtosNew)\n",
    "        # criar df de pagamentos parciais\n",
    "        df_pagtoGeralTotal=spark.createDataFrame(rdd, pagamentosGlobaisStruct)\n",
    "        #type(df_pagtosMensais)                                            \n",
    "        df_pagtoGeralTotal.write.format('parquet').partitionBy('id').mode('overwrite').save('/app/parquet/pagamentosGerais/df_pagtoGeral.parquet')\n",
    "    else:\n",
    "        df_pagtoGeral.write.format('parquet').partitionBy('id').mode('overwrite').save('/app/parquet/pagamentosGerais/df_pagtoGeral.parquet')\n"
   ]
  },
  {
   "cell_type": "code",
   "execution_count": null,
   "id": "5d11f8fe",
   "metadata": {},
   "outputs": [],
   "source": [
    "# alterar planilha de planos para processados\n",
    "'''\n",
    "os.chdir('.')\n",
    "for f in os.listdir():\n",
    "    if f == 'planos.csv':\n",
    "        os.rename(f, '/app/csv/processados/' + f)\n",
    "        print ('/app/csv/processados/' + f)\n",
    "os.chdir('.')\n",
    "'''\n"
   ]
  },
  {
   "cell_type": "code",
   "execution_count": null,
   "id": "801a8a32",
   "metadata": {},
   "outputs": [],
   "source": [
    "# alterar planilha de pagamentos para processados\n",
    "os.chdir('.')\n",
    "for f in os.listdir():\n",
    "    if f == 'pagamentos.csv':\n",
    "        os.rename(f, '/app/csv/processados/' + f)\n",
    "        print ('/app/csv/processados/' + f)\n",
    "os.chdir('.')"
   ]
  }
 ],
 "metadata": {
  "kernelspec": {
   "display_name": "Python 3 (ipykernel)",
   "language": "python",
   "name": "python3"
  },
  "language_info": {
   "codemirror_mode": {
    "name": "ipython",
    "version": 3
   },
   "file_extension": ".py",
   "mimetype": "text/x-python",
   "name": "python",
   "nbconvert_exporter": "python",
   "pygments_lexer": "ipython3",
   "version": "3.9.2"
  }
 },
 "nbformat": 4,
 "nbformat_minor": 5
}
